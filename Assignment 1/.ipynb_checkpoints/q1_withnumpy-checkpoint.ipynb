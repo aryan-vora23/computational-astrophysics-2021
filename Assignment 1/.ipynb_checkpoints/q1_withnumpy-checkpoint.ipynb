{
 "cells": [
  {
   "cell_type": "code",
   "execution_count": 1,
   "metadata": {},
   "outputs": [],
   "source": [
    "import numpy as np \n",
    "Vmag, logL, Prob=np.loadtxt(f'Starfish_Data.csv',delimiter=',',unpack=True)\n"
   ]
  },
  {
   "cell_type": "code",
   "execution_count": 2,
   "metadata": {},
   "outputs": [],
   "source": [
    "def distance(v,lL):\n",
    "    x=0.2*(v+2.5*lL+0.17)\n",
    "    return 10**x"
   ]
  },
  {
   "cell_type": "code",
   "execution_count": 3,
   "metadata": {},
   "outputs": [],
   "source": [
    "Dist=distance(Vmag,logL)"
   ]
  },
  {
   "cell_type": "code",
   "execution_count": 4,
   "metadata": {},
   "outputs": [],
   "source": [
    "weight=Dist*Prob/100\n",
    "n=np.count_nonzero(Prob)\n",
    "#not counting nonzero Prob as we are sure they aren't in the cluster, these dont affect weight as prob is zero anyways"
   ]
  },
  {
   "cell_type": "code",
   "execution_count": 5,
   "metadata": {},
   "outputs": [],
   "source": [
    "avg=sum(weight)/n"
   ]
  },
  {
   "cell_type": "code",
   "execution_count": 6,
   "metadata": {},
   "outputs": [
    {
     "name": "stdout",
     "output_type": "stream",
     "text": [
      "The distance of the Starfish Cluster from the earth is: 1052.166533346997 parsecs\n"
     ]
    }
   ],
   "source": [
    "print(\"The distance of the Starfish Cluster from the earth is:\",avg,\"parsecs\")"
   ]
  }
 ],
 "metadata": {
  "kernelspec": {
   "display_name": "Python 3",
   "language": "python",
   "name": "python3"
  },
  "language_info": {
   "codemirror_mode": {
    "name": "ipython",
    "version": 3
   },
   "file_extension": ".py",
   "mimetype": "text/x-python",
   "name": "python",
   "nbconvert_exporter": "python",
   "pygments_lexer": "ipython3",
   "version": "3.8.8"
  }
 },
 "nbformat": 4,
 "nbformat_minor": 2
}
