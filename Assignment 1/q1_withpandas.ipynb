{
 "cells": [
  {
   "cell_type": "code",
   "execution_count": 15,
   "metadata": {},
   "outputs": [
    {
     "output_type": "execute_result",
     "data": {
      "text/plain": [
       "   #Vmag  logL  Prob\n",
       "0   8.88  2.65     1\n",
       "1   8.88  2.65    28\n",
       "2   8.88  2.65    72\n",
       "3   9.03  2.54     0\n",
       "4   9.03  2.54    13"
      ],
      "text/html": "<div>\n<style scoped>\n    .dataframe tbody tr th:only-of-type {\n        vertical-align: middle;\n    }\n\n    .dataframe tbody tr th {\n        vertical-align: top;\n    }\n\n    .dataframe thead th {\n        text-align: right;\n    }\n</style>\n<table border=\"1\" class=\"dataframe\">\n  <thead>\n    <tr style=\"text-align: right;\">\n      <th></th>\n      <th>#Vmag</th>\n      <th>logL</th>\n      <th>Prob</th>\n    </tr>\n  </thead>\n  <tbody>\n    <tr>\n      <th>0</th>\n      <td>8.88</td>\n      <td>2.65</td>\n      <td>1</td>\n    </tr>\n    <tr>\n      <th>1</th>\n      <td>8.88</td>\n      <td>2.65</td>\n      <td>28</td>\n    </tr>\n    <tr>\n      <th>2</th>\n      <td>8.88</td>\n      <td>2.65</td>\n      <td>72</td>\n    </tr>\n    <tr>\n      <th>3</th>\n      <td>9.03</td>\n      <td>2.54</td>\n      <td>0</td>\n    </tr>\n    <tr>\n      <th>4</th>\n      <td>9.03</td>\n      <td>2.54</td>\n      <td>13</td>\n    </tr>\n  </tbody>\n</table>\n</div>"
     },
     "metadata": {},
     "execution_count": 15
    }
   ],
   "source": [
    "import pandas as pd\n",
    "df = pd.read_csv('Starfish_Data.csv')\n",
    "df.head()"
   ]
  },
  {
   "cell_type": "code",
   "execution_count": 16,
   "metadata": {},
   "outputs": [],
   "source": [
    "def distance(v,lL):\n",
    "    x=0.2*(v+2.5*lL+0.17)\n",
    "    return 10**x"
   ]
  },
  {
   "cell_type": "code",
   "execution_count": 17,
   "metadata": {},
   "outputs": [
    {
     "output_type": "execute_result",
     "data": {
      "text/plain": [
       "   #Vmag  logL  Prob     distance\n",
       "0   8.88  2.65     1  1364.583137\n",
       "1   8.88  2.65    28  1364.583137\n",
       "2   8.88  2.65    72  1364.583137\n",
       "3   9.03  2.54     0  1288.249552\n",
       "4   9.03  2.54    13  1288.249552"
      ],
      "text/html": "<div>\n<style scoped>\n    .dataframe tbody tr th:only-of-type {\n        vertical-align: middle;\n    }\n\n    .dataframe tbody tr th {\n        vertical-align: top;\n    }\n\n    .dataframe thead th {\n        text-align: right;\n    }\n</style>\n<table border=\"1\" class=\"dataframe\">\n  <thead>\n    <tr style=\"text-align: right;\">\n      <th></th>\n      <th>#Vmag</th>\n      <th>logL</th>\n      <th>Prob</th>\n      <th>distance</th>\n    </tr>\n  </thead>\n  <tbody>\n    <tr>\n      <th>0</th>\n      <td>8.88</td>\n      <td>2.65</td>\n      <td>1</td>\n      <td>1364.583137</td>\n    </tr>\n    <tr>\n      <th>1</th>\n      <td>8.88</td>\n      <td>2.65</td>\n      <td>28</td>\n      <td>1364.583137</td>\n    </tr>\n    <tr>\n      <th>2</th>\n      <td>8.88</td>\n      <td>2.65</td>\n      <td>72</td>\n      <td>1364.583137</td>\n    </tr>\n    <tr>\n      <th>3</th>\n      <td>9.03</td>\n      <td>2.54</td>\n      <td>0</td>\n      <td>1288.249552</td>\n    </tr>\n    <tr>\n      <th>4</th>\n      <td>9.03</td>\n      <td>2.54</td>\n      <td>13</td>\n      <td>1288.249552</td>\n    </tr>\n  </tbody>\n</table>\n</div>"
     },
     "metadata": {},
     "execution_count": 17
    }
   ],
   "source": [
    "\n",
    "df[\"distance\"]=distance(df['#Vmag'],df['logL'])\n",
    "df.head()"
   ]
  },
  {
   "cell_type": "code",
   "execution_count": 18,
   "metadata": {},
   "outputs": [
    {
     "output_type": "execute_result",
     "data": {
      "text/plain": [
       "   #Vmag  logL  Prob     distance     weights\n",
       "0   8.88  2.65     1  1364.583137   13.645831\n",
       "1   8.88  2.65    28  1364.583137  382.083278\n",
       "2   8.88  2.65    72  1364.583137  982.499858\n",
       "3   9.03  2.54     0  1288.249552    0.000000\n",
       "4   9.03  2.54    13  1288.249552  167.472442"
      ],
      "text/html": "<div>\n<style scoped>\n    .dataframe tbody tr th:only-of-type {\n        vertical-align: middle;\n    }\n\n    .dataframe tbody tr th {\n        vertical-align: top;\n    }\n\n    .dataframe thead th {\n        text-align: right;\n    }\n</style>\n<table border=\"1\" class=\"dataframe\">\n  <thead>\n    <tr style=\"text-align: right;\">\n      <th></th>\n      <th>#Vmag</th>\n      <th>logL</th>\n      <th>Prob</th>\n      <th>distance</th>\n      <th>weights</th>\n    </tr>\n  </thead>\n  <tbody>\n    <tr>\n      <th>0</th>\n      <td>8.88</td>\n      <td>2.65</td>\n      <td>1</td>\n      <td>1364.583137</td>\n      <td>13.645831</td>\n    </tr>\n    <tr>\n      <th>1</th>\n      <td>8.88</td>\n      <td>2.65</td>\n      <td>28</td>\n      <td>1364.583137</td>\n      <td>382.083278</td>\n    </tr>\n    <tr>\n      <th>2</th>\n      <td>8.88</td>\n      <td>2.65</td>\n      <td>72</td>\n      <td>1364.583137</td>\n      <td>982.499858</td>\n    </tr>\n    <tr>\n      <th>3</th>\n      <td>9.03</td>\n      <td>2.54</td>\n      <td>0</td>\n      <td>1288.249552</td>\n      <td>0.000000</td>\n    </tr>\n    <tr>\n      <th>4</th>\n      <td>9.03</td>\n      <td>2.54</td>\n      <td>13</td>\n      <td>1288.249552</td>\n      <td>167.472442</td>\n    </tr>\n  </tbody>\n</table>\n</div>"
     },
     "metadata": {},
     "execution_count": 18
    }
   ],
   "source": [
    "df[\"weights\"]=df[\"distance\"]*df[\"Prob\"]/100\n",
    "df.head()"
   ]
  },
  {
   "cell_type": "code",
   "execution_count": 19,
   "metadata": {},
   "outputs": [],
   "source": [
    "import numpy as np\n",
    "n=np.sum(df['Prob'])/100\n",
    "avg=np.sum(df['weights'])/n"
   ]
  },
  {
   "cell_type": "code",
   "execution_count": 20,
   "metadata": {},
   "outputs": [
    {
     "output_type": "stream",
     "name": "stdout",
     "text": [
      "The distance of the Starfish Cluster from the earth is: 1380.9685750179333 parsecs\n"
     ]
    }
   ],
   "source": [
    "print(\"The distance of the Starfish Cluster from the earth is:\",avg,\"parsecs\")"
   ]
  },
  {
   "cell_type": "code",
   "execution_count": null,
   "metadata": {},
   "outputs": [],
   "source": []
  }
 ],
 "metadata": {
  "kernelspec": {
   "display_name": "Python 3",
   "language": "python",
   "name": "python3"
  },
  "language_info": {
   "codemirror_mode": {
    "name": "ipython",
    "version": 3
   },
   "file_extension": ".py",
   "mimetype": "text/x-python",
   "name": "python",
   "nbconvert_exporter": "python",
   "pygments_lexer": "ipython3",
   "version": "3.8.8"
  }
 },
 "nbformat": 4,
 "nbformat_minor": 2
}