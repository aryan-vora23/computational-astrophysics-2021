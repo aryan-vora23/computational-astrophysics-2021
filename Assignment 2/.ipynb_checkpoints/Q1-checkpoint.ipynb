{
 "cells": [
  {
   "cell_type": "code",
   "execution_count": 1,
   "metadata": {},
   "outputs": [],
   "source": [
    "import numpy as np \n",
    "import pandas as pd\n",
    "from astropy.coordinates import SkyCoord"
   ]
  },
  {
   "cell_type": "code",
   "execution_count": 2,
   "metadata": {},
   "outputs": [
    {
     "data": {
      "text/html": [
       "<div>\n",
       "<style scoped>\n",
       "    .dataframe tbody tr th:only-of-type {\n",
       "        vertical-align: middle;\n",
       "    }\n",
       "\n",
       "    .dataframe tbody tr th {\n",
       "        vertical-align: top;\n",
       "    }\n",
       "\n",
       "    .dataframe thead th {\n",
       "        text-align: right;\n",
       "    }\n",
       "</style>\n",
       "<table border=\"1\" class=\"dataframe\">\n",
       "  <thead>\n",
       "    <tr style=\"text-align: right;\">\n",
       "      <th></th>\n",
       "      <th>RA</th>\n",
       "      <th>DEC</th>\n",
       "      <th>Cluster</th>\n",
       "    </tr>\n",
       "  </thead>\n",
       "  <tbody>\n",
       "    <tr>\n",
       "      <th>0</th>\n",
       "      <td>279.106183</td>\n",
       "      <td>-23.905930</td>\n",
       "      <td>1.0</td>\n",
       "    </tr>\n",
       "    <tr>\n",
       "      <th>1</th>\n",
       "      <td>279.093075</td>\n",
       "      <td>-23.909687</td>\n",
       "      <td>1.0</td>\n",
       "    </tr>\n",
       "    <tr>\n",
       "      <th>2</th>\n",
       "      <td>279.087353</td>\n",
       "      <td>-23.900153</td>\n",
       "      <td>1.0</td>\n",
       "    </tr>\n",
       "    <tr>\n",
       "      <th>3</th>\n",
       "      <td>279.096235</td>\n",
       "      <td>-23.902155</td>\n",
       "      <td>1.0</td>\n",
       "    </tr>\n",
       "    <tr>\n",
       "      <th>4</th>\n",
       "      <td>279.088062</td>\n",
       "      <td>-23.903066</td>\n",
       "      <td>1.0</td>\n",
       "    </tr>\n",
       "  </tbody>\n",
       "</table>\n",
       "</div>"
      ],
      "text/plain": [
       "           RA        DEC  Cluster\n",
       "0  279.106183 -23.905930      1.0\n",
       "1  279.093075 -23.909687      1.0\n",
       "2  279.087353 -23.900153      1.0\n",
       "3  279.096235 -23.902155      1.0\n",
       "4  279.088062 -23.903066      1.0"
      ]
     },
     "execution_count": 2,
     "metadata": {},
     "output_type": "execute_result"
    }
   ],
   "source": [
    "df1=pd.read_csv('Clusters.csv')\n",
    "df_c1=df1[df1['Cluster']==1.0]\n",
    "df_c2=df1[df1['Cluster']==2.0]\n",
    "df_c1.head()"
   ]
  },
  {
   "cell_type": "code",
   "execution_count": 3,
   "metadata": {},
   "outputs": [],
   "source": [
    "ra_mean1=df_c1['RA'].mean()\n",
    "dec_mean1=df_c1['DEC'].mean()\n",
    "ra_mean2=df_c2['RA'].mean()\n",
    "dec_mean2=df_c2['DEC'].mean()"
   ]
  },
  {
   "cell_type": "code",
   "execution_count": 4,
   "metadata": {},
   "outputs": [
    {
     "name": "stdout",
     "output_type": "stream",
     "text": [
      "  Messier_Name          RA        DEC\n",
      "0    Messier 1   83.633083    22.0145\n",
      "1    Messier 2  323.362583   -0.82325\n",
      "2    Messier 3  205.548417  28.377278\n",
      "3    Messier 4   245.89675  -26.52575\n",
      "4    Messier 5  229.638417   2.081028\n"
     ]
    }
   ],
   "source": [
    "Messiers=[]\n",
    "for i in range(1,111):\n",
    "    Messier=str('Messier ')+str(i)\n",
    "    Messiers.append(Messier)\n",
    "\n",
    "df=pd.DataFrame(Messiers,columns=['Messier_Name'])\n",
    "df[\"RA\"]=''\n",
    "df['DEC']=''\n",
    "for i in range(len(df)):\n",
    "    Coordinate=SkyCoord.from_name(df[\"Messier_Name\"][i])\n",
    "    df['RA'][i]=Coordinate.ra.degree\n",
    "    df['DEC'][i]=Coordinate.dec.degree\n",
    "\n",
    "df.to_csv(\"Messiers.csv\",index=None)\n",
    "print(df.head())"
   ]
  },
  {
   "cell_type": "code",
   "execution_count": null,
   "metadata": {},
   "outputs": [],
   "source": []
  }
 ],
 "metadata": {
  "kernelspec": {
   "display_name": "Python 3",
   "language": "python",
   "name": "python3"
  },
  "language_info": {
   "codemirror_mode": {
    "name": "ipython",
    "version": 3
   },
   "file_extension": ".py",
   "mimetype": "text/x-python",
   "name": "python",
   "nbconvert_exporter": "python",
   "pygments_lexer": "ipython3",
   "version": "3.8.8"
  }
 },
 "nbformat": 4,
 "nbformat_minor": 2
}
