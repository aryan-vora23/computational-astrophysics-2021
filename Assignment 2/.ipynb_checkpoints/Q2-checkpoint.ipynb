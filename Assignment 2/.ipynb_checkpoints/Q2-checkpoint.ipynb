{
 "cells": [
  {
   "cell_type": "code",
   "execution_count": 1,
   "metadata": {},
   "outputs": [],
   "source": [
    "import numpy as np \n",
    "import pandas as pd \n",
    "import matplotlib.pyplot as plt \n",
    "from astropy import constants as const\n",
    "from scipy.optimize import curve_fit as cf"
   ]
  },
  {
   "cell_type": "code",
   "execution_count": 2,
   "metadata": {},
   "outputs": [],
   "source": [
    "data, freq, time = np.loadtxt('GW_data_file.csv',delimiter=',')\n",
    "#print(len(data),len(freq),len(time))"
   ]
  },
  {
   "cell_type": "code",
   "execution_count": null,
   "metadata": {},
   "outputs": [],
   "source": [
    "plt.figure()\n",
    "plt.plot(time,data)\n",
    "plt.axhline(y=0,color='r')\n",
    "plt.title(\"Strain Data vs Time\")\n",
    "plt.xlabel(\"Time in seconds\")\n",
    "plt.ylabel(\"Strain Data\")\n",
    "plt.show()"
   ]
  },
  {
   "cell_type": "code",
   "execution_count": null,
   "metadata": {},
   "outputs": [],
   "source": [
    "plt.figure()\n",
    "plt.scatter(time,freq,s=2)\n",
    "plt.title(\"Time vs Frequency for Raw Data\")\n",
    "plt.xlabel(\"Time in seconds\")\n",
    "plt.ylabel(\"Frequency in Hz\")\n",
    "plt.show()\n",
    "#The frequency plot resembles an exponential growth at first but after reaching a peak, it decays"
   ]
  },
  {
   "cell_type": "code",
   "execution_count": null,
   "metadata": {},
   "outputs": [],
   "source": [
    "idt=np.argwhere(np.diff(np.sign(data))).flatten()\n",
    "print(idt)"
   ]
  },
  {
   "cell_type": "code",
   "execution_count": null,
   "metadata": {},
   "outputs": [],
   "source": [
    "freq1=np.empty(0)\n",
    "time1=np.empty(0)\n",
    "\n",
    "for i in idt:\n",
    "    freq1=np.append(freq1,freq[i])\n",
    "    time1=np.append(time1,time[i])"
   ]
  },
  {
   "cell_type": "code",
   "execution_count": null,
   "metadata": {},
   "outputs": [],
   "source": [
    "plt.figure()\n",
    "plt.scatter(time1,freq1)\n",
    "plt.title(\"Time vs Frequency for Zero-Indexed Data\")\n",
    "plt.xlabel(\"Time in seconds\")\n",
    "plt.ylabel(\"Frequency in Hz\")\n",
    "plt.show()"
   ]
  },
  {
   "cell_type": "code",
   "execution_count": null,
   "metadata": {},
   "outputs": [],
   "source": [
    "freq2=np.empty(0)\n",
    "time2=np.empty(0)\n",
    "for i in range(len(time1)):\n",
    "    if time1[i]<0 and freq1[i]>50:\n",
    "        time2=np.append(time2,time1[i])\n",
    "        freq2=np.append(freq2,freq1[i])\n",
    "#got all t<tc"
   ]
  },
  {
   "cell_type": "code",
   "execution_count": null,
   "metadata": {},
   "outputs": [],
   "source": [
    "timelog=np.empty(0)\n",
    "freqlog=np.empty(0)\n",
    "for i in time2:\n",
    "    timelog=np.append(timelog,np.log(-i))\n",
    "for i in freq2:\n",
    "    freqlog=np.append(freqlog,np.log(i))"
   ]
  },
  {
   "cell_type": "code",
   "execution_count": null,
   "metadata": {},
   "outputs": [],
   "source": [
    "def logfrequency(logminust,M):\n",
    "    #c=(np.power(5,3/8)/(8*np.pi))*np.power(const.c.value,15/8)/np.power(const.G.value,5/8)\n",
    "    #f=c/(np.power(M,5/8)*np.power(-t,3/8))\n",
    "    c=(3/8)*np.log(5)-np.log(8*np.pi)+(15/8)*np.log(const.c.value)-(5/8)*np.log(const.G.value)-(5/8)*np.log(M)\n",
    "    return c-(3/8)*logminust"
   ]
  },
  {
   "cell_type": "code",
   "execution_count": null,
   "metadata": {},
   "outputs": [],
   "source": [
    "p_opt, p_cov=cf(logfrequency,timelog,freqlog)"
   ]
  },
  {
   "cell_type": "code",
   "execution_count": null,
   "metadata": {},
   "outputs": [],
   "source": [
    "print(p_opt)"
   ]
  },
  {
   "cell_type": "code",
   "execution_count": null,
   "metadata": {},
   "outputs": [],
   "source": [
    "plt.figure()\n",
    "plt.scatter(timelog,freqlog,label='Raw Data in Natural Logarithms')\n",
    "plt.plot(timelog,logfrequency(timelog,*p_opt),'r',label='Best Fit')\n",
    "plt.title(\"Best Fit Curve\")\n",
    "plt.xlabel(\"Natural Log of Time in seconds\")\n",
    "plt.ylabel(\"Natural Log of Frequency in Hz\")\n",
    "plt.legend()\n",
    "plt.show()"
   ]
  },
  {
   "cell_type": "code",
   "execution_count": null,
   "metadata": {},
   "outputs": [],
   "source": [
    "print('Chirp Mass of the system is:',p_opt,'kg.')"
   ]
  },
  {
   "cell_type": "code",
   "execution_count": null,
   "metadata": {},
   "outputs": [],
   "source": []
  }
 ],
 "metadata": {
  "interpreter": {
   "hash": "b3ba2566441a7c06988d0923437866b63cedc61552a5af99d1f4fb67d367b25f"
  },
  "kernelspec": {
   "display_name": "Python 3",
   "language": "python",
   "name": "python3"
  },
  "language_info": {
   "codemirror_mode": {
    "name": "ipython",
    "version": 3
   },
   "file_extension": ".py",
   "mimetype": "text/x-python",
   "name": "python",
   "nbconvert_exporter": "python",
   "pygments_lexer": "ipython3",
   "version": "3.8.8"
  }
 },
 "nbformat": 4,
 "nbformat_minor": 2
}
