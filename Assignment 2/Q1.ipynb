{
 "cells": [
  {
   "cell_type": "code",
   "execution_count": 1,
   "metadata": {},
   "outputs": [],
   "source": [
    "import numpy as np \n",
    "import pandas as pd\n",
    "from astropy.coordinates import SkyCoord\n",
    "from astropy import units as u"
   ]
  },
  {
   "cell_type": "code",
   "execution_count": 2,
   "metadata": {},
   "outputs": [],
   "source": [
    "df1=pd.read_csv('Clusters.csv')\n",
    "df_c1=df1[df1['Cluster']==1.0]\n",
    "#df_c1.loc[df_c1['RA']>180, 'RA']=df_c1['RA']-360\n",
    "df_c2=df1[df1['Cluster']==2.0]\n",
    "#df_c2.loc[df_c2['RA']>180, 'RA']=df_c2['RA']-360"
   ]
  },
  {
   "cell_type": "code",
   "execution_count": 3,
   "metadata": {},
   "outputs": [
    {
     "name": "stdout",
     "output_type": "stream",
     "text": [
      "279.1002484083667 -23.901915944016995\n"
     ]
    }
   ],
   "source": [
    "ra_mean1=df_c1['RA'].mean()\n",
    "dec_mean1=df_c1['DEC'].mean()\n",
    "print(ra_mean1,dec_mean1)\n",
    "ra_mean2=df_c2['RA'].mean()\n",
    "dec_mean2=df_c2['DEC'].mean()"
   ]
  },
  {
   "cell_type": "code",
   "execution_count": 4,
   "metadata": {},
   "outputs": [
    {
     "name": "stdout",
     "output_type": "stream",
     "text": [
      "  Messier_Name          RA        DEC\n",
      "0    Messier 1   83.633083    22.0145\n",
      "1    Messier 2  -36.637417   -0.82325\n",
      "2    Messier 3 -154.451583  28.377278\n",
      "3    Messier 4  -114.10325  -26.52575\n",
      "4    Messier 5 -130.361583   2.081028\n"
     ]
    }
   ],
   "source": [
    "Messiers=[]\n",
    "for i in range(1,111):\n",
    "    Messier=str('Messier ')+str(i)\n",
    "    Messiers.append(Messier)\n",
    "\n",
    "df=pd.DataFrame(Messiers,columns=['Messier_Name'])\n",
    "df[\"RA\"]=''\n",
    "df['DEC']=''\n",
    "for i in range(len(df)):\n",
    "    Coordinate=SkyCoord.from_name(df[\"Messier_Name\"][i])\n",
    "    df['RA'][i]=Coordinate.ra.degree\n",
    "    df['DEC'][i]=Coordinate.dec.degree\n",
    "df.loc[df['RA']>180, 'RA']=df['RA']-360\n",
    "df.to_csv(\"Messiers.csv\",index=None)\n",
    "print(df.head())"
   ]
  },
  {
   "cell_type": "code",
   "execution_count": 5,
   "metadata": {},
   "outputs": [],
   "source": [
    "ra1=[ra_mean1]\n",
    "dec1=[dec_mean1]\n",
    "ra_m=np.asarray(df['RA'])\n",
    "dec_m=np.asarray(df['DEC'])\n",
    "c1=SkyCoord(ra=ra1*u.degree,dec=dec1*u.degree,frame='icrs')\n",
    "c2=SkyCoord(ra=ra_m*u.degree,dec=dec_m*u.degree,frame='icrs')\n",
    "#print(c1,c2)\n",
    "idx,d2d,d3d=(c2).match_to_catalog_sky(c1)"
   ]
  },
  {
   "cell_type": "code",
   "execution_count": 6,
   "metadata": {},
   "outputs": [
    {
     "name": "stdout",
     "output_type": "stream",
     "text": [
      "[[21, 0, 0.002870452824447534]]\n"
     ]
    }
   ],
   "source": [
    "matches=[]\n",
    "max_radius=30/3600\n",
    "\n",
    "for id1,(closest_id2,dist) in enumerate(zip(idx,d2d)):\n",
    "    closest_dist=dist.value\n",
    "    if closest_dist<max_radius:\n",
    "        matches.append([id1,closest_id2,closest_dist])\n",
    "\n",
    "print(matches)"
   ]
  },
  {
   "cell_type": "code",
   "execution_count": 7,
   "metadata": {},
   "outputs": [
    {
     "name": "stdout",
     "output_type": "stream",
     "text": [
      "[]\n"
     ]
    }
   ],
   "source": [
    "ra2=[ra_mean2]\n",
    "dec2=[dec_mean2]\n",
    "c3=SkyCoord(ra=ra2*u.degree,dec=dec2*u.degree,frame='icrs')\n",
    "idx2,d2d2,d3d2=(c2).match_to_catalog_sky(c3)\n",
    "matches1=[]\n",
    "for id1,(closest_id2,dist) in enumerate(zip(idx2,d2d2)):\n",
    "    closest_dist=dist.value\n",
    "    if closest_dist<max_radius:\n",
    "        matches1.append([id1,closest_id2,closest_dist])\n",
    "\n",
    "print(matches1)"
   ]
  },
  {
   "cell_type": "code",
   "execution_count": 8,
   "metadata": {},
   "outputs": [
    {
     "name": "stdout",
     "output_type": "stream",
     "text": [
      "The globular cluster 1 is Messier 21.\n",
      "There are no Messiers closer than 30 arcseconds to globular cluster 2\n"
     ]
    }
   ],
   "source": [
    "print(\"The globular cluster 1 is Messier 21.\\nThere are no Messiers closer than 30 arcseconds to globular cluster 2\")"
   ]
  }
 ],
 "metadata": {
  "kernelspec": {
   "display_name": "Python 3",
   "language": "python",
   "name": "python3"
  },
  "language_info": {
   "codemirror_mode": {
    "name": "ipython",
    "version": 3
   },
   "file_extension": ".py",
   "mimetype": "text/x-python",
   "name": "python",
   "nbconvert_exporter": "python",
   "pygments_lexer": "ipython3",
   "version": "3.8.8"
  }
 },
 "nbformat": 4,
 "nbformat_minor": 2
}
